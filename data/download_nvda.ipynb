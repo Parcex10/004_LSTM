{
 "cells": [
  {
   "cell_type": "code",
   "execution_count": 1,
   "id": "2e37d334",
   "metadata": {},
   "outputs": [
    {
     "name": "stdout",
     "output_type": "stream",
     "text": [
      "YF.download() has changed argument auto_adjust default to True\n"
     ]
    },
    {
     "name": "stderr",
     "output_type": "stream",
     "text": [
      "[*********************100%***********************]  1 of 1 completed"
     ]
    },
    {
     "name": "stdout",
     "output_type": "stream",
     "text": [
      "Shape: (2767, 5)\n"
     ]
    },
    {
     "name": "stderr",
     "output_type": "stream",
     "text": [
      "\n"
     ]
    },
    {
     "data": {
      "text/html": [
       "<div>\n",
       "<style scoped>\n",
       "    .dataframe tbody tr th:only-of-type {\n",
       "        vertical-align: middle;\n",
       "    }\n",
       "\n",
       "    .dataframe tbody tr th {\n",
       "        vertical-align: top;\n",
       "    }\n",
       "\n",
       "    .dataframe thead tr th {\n",
       "        text-align: left;\n",
       "    }\n",
       "\n",
       "    .dataframe thead tr:last-of-type th {\n",
       "        text-align: right;\n",
       "    }\n",
       "</style>\n",
       "<table border=\"1\" class=\"dataframe\">\n",
       "  <thead>\n",
       "    <tr>\n",
       "      <th>Price</th>\n",
       "      <th>Close</th>\n",
       "      <th>High</th>\n",
       "      <th>Low</th>\n",
       "      <th>Open</th>\n",
       "      <th>Volume</th>\n",
       "    </tr>\n",
       "    <tr>\n",
       "      <th>Ticker</th>\n",
       "      <th>NVDA</th>\n",
       "      <th>NVDA</th>\n",
       "      <th>NVDA</th>\n",
       "      <th>NVDA</th>\n",
       "      <th>NVDA</th>\n",
       "    </tr>\n",
       "    <tr>\n",
       "      <th>Date</th>\n",
       "      <th></th>\n",
       "      <th></th>\n",
       "      <th></th>\n",
       "      <th></th>\n",
       "      <th></th>\n",
       "    </tr>\n",
       "  </thead>\n",
       "  <tbody>\n",
       "    <tr>\n",
       "      <th>2014-01-02</th>\n",
       "      <td>0.373906</td>\n",
       "      <td>0.376735</td>\n",
       "      <td>0.370605</td>\n",
       "      <td>0.375320</td>\n",
       "      <td>260092000</td>\n",
       "    </tr>\n",
       "    <tr>\n",
       "      <th>2014-01-03</th>\n",
       "      <td>0.369427</td>\n",
       "      <td>0.375320</td>\n",
       "      <td>0.368248</td>\n",
       "      <td>0.374613</td>\n",
       "      <td>259332000</td>\n",
       "    </tr>\n",
       "    <tr>\n",
       "      <th>2014-01-06</th>\n",
       "      <td>0.374377</td>\n",
       "      <td>0.377206</td>\n",
       "      <td>0.369662</td>\n",
       "      <td>0.373199</td>\n",
       "      <td>409492000</td>\n",
       "    </tr>\n",
       "    <tr>\n",
       "      <th>2014-01-07</th>\n",
       "      <td>0.380507</td>\n",
       "      <td>0.381921</td>\n",
       "      <td>0.375556</td>\n",
       "      <td>0.378149</td>\n",
       "      <td>333288000</td>\n",
       "    </tr>\n",
       "    <tr>\n",
       "      <th>2014-01-08</th>\n",
       "      <td>0.385694</td>\n",
       "      <td>0.387580</td>\n",
       "      <td>0.380507</td>\n",
       "      <td>0.381922</td>\n",
       "      <td>308192000</td>\n",
       "    </tr>\n",
       "  </tbody>\n",
       "</table>\n",
       "</div>"
      ],
      "text/plain": [
       "Price          Close      High       Low      Open     Volume\n",
       "Ticker          NVDA      NVDA      NVDA      NVDA       NVDA\n",
       "Date                                                         \n",
       "2014-01-02  0.373906  0.376735  0.370605  0.375320  260092000\n",
       "2014-01-03  0.369427  0.375320  0.368248  0.374613  259332000\n",
       "2014-01-06  0.374377  0.377206  0.369662  0.373199  409492000\n",
       "2014-01-07  0.380507  0.381921  0.375556  0.378149  333288000\n",
       "2014-01-08  0.385694  0.387580  0.380507  0.381922  308192000"
      ]
     },
     "execution_count": 1,
     "metadata": {},
     "output_type": "execute_result"
    }
   ],
   "source": [
    "import yfinance as yf\n",
    "import pandas as pd\n",
    "\n",
    "# Descargar datos históricos de NVIDIA\n",
    "ticker = \"NVDA\"\n",
    "df = yf.download(ticker, start=\"2014-01-01\", end=\"2024-12-31\")\n",
    "\n",
    "# Vista rápida del DataFrame\n",
    "print(\"Shape:\", df.shape)\n",
    "df.head()\n"
   ]
  },
  {
   "cell_type": "code",
   "execution_count": 2,
   "id": "d85bfa15",
   "metadata": {},
   "outputs": [],
   "source": [
    "# Guardar en CSV\n",
    "df.to_csv(\"../data/NVDA_10yr.csv\")"
   ]
  }
 ],
 "metadata": {
  "kernelspec": {
   "display_name": "3.10.12",
   "language": "python",
   "name": "python3"
  },
  "language_info": {
   "codemirror_mode": {
    "name": "ipython",
    "version": 3
   },
   "file_extension": ".py",
   "mimetype": "text/x-python",
   "name": "python",
   "nbconvert_exporter": "python",
   "pygments_lexer": "ipython3",
   "version": "3.10.12"
  }
 },
 "nbformat": 4,
 "nbformat_minor": 5
}
